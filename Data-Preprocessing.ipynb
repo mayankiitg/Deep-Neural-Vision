{
 "cells": [
  {
   "cell_type": "code",
   "execution_count": 1,
   "metadata": {},
   "outputs": [],
   "source": [
    "%matplotlib inline\n",
    "from pycocotools.coco import COCO\n",
    "import numpy as np\n",
    "import skimage.io as io\n",
    "import matplotlib.pyplot as plt\n",
    "import pylab\n",
    "import json\n",
    "pylab.rcParams['figure.figsize'] = (8.0, 10.0)"
   ]
  },
  {
   "cell_type": "code",
   "execution_count": 2,
   "metadata": {},
   "outputs": [],
   "source": [
    "dataDir='/data/dataset/coco'"
   ]
  },
  {
   "cell_type": "markdown",
   "metadata": {},
   "source": [
    "### Adding some helper functions"
   ]
  },
  {
   "cell_type": "code",
   "execution_count": 3,
   "metadata": {},
   "outputs": [],
   "source": [
    "def getCocoFromAnnotations(annFile):\n",
    "        coco=COCO(annFile)\n",
    "        return coco\n",
    "\n",
    "def showImage(imgId):\n",
    "    # load and display image\n",
    "    # I = io.imread('%s/images/%s/%s'%(dataDir,dataType,img['file_name']))\n",
    "    # use url to load image\n",
    "    # print(img)\n",
    "    I = io.imread(img['coco_url'])\n",
    "    plt.axis('off')\n",
    "    plt.imshow(I)\n",
    "    plt.show()\n",
    "    \n",
    "def writeToFile(outdoorImageIds, dataType):\n",
    "    filename = f'{dataType}_outdoor'\n",
    "    print(f'\\n Writing OutdoorImageIds to file {filename}')\n",
    "    file1 = open(f'{dataType}_outdoor', 'w')\n",
    "    file1.writelines(json.dumps(outdoorImageIds))"
   ]
  },
  {
   "cell_type": "markdown",
   "metadata": {},
   "source": [
    "### Outdoor Dataset Generator can be used to get Outdoor Image Ids"
   ]
  },
  {
   "cell_type": "code",
   "execution_count": 4,
   "metadata": {},
   "outputs": [],
   "source": [
    "class OutdoorDatasetGenerator:\n",
    "    def __init__(self, coco):\n",
    "        self.coco = coco\n",
    "    \n",
    "    def getCocoCategories(self):\n",
    "        cats = self.coco.loadCats(self.coco.getCatIds())\n",
    "        nms=[cat['name'] for cat in cats]\n",
    "        print(f'There are {len(cats)} coco categories')\n",
    "        return cats\n",
    "\n",
    "    def getSuperCategories(self):\n",
    "        cats = self.getCocoCategories()\n",
    "        supercats = set([cat['supercategory'] for cat in cats])\n",
    "        print(f'There are {len(supercats)} coco supercategories')\n",
    "        # print('COCO supercategories: \\n{}'.format(' '.join(nms)))\n",
    "        return supercats\n",
    "\n",
    "    def getOutdoorCategories(self):\n",
    "        cats = self.getCocoCategories()\n",
    "        outdoorCats = []\n",
    "        for category in cats:\n",
    "            if category['supercategory'] == 'outdoor' or category['supercategory'] == 'vehicle':\n",
    "                outdoorCats.append(category['name'])\n",
    "        print('Outdoor Categories are', outdoorCats)\n",
    "        return outdoorCats\n",
    "\n",
    "    def getOutdoorImageIds(self):\n",
    "        outdoorCats = self.getOutdoorCategories()\n",
    "        outdoorImageIds = []\n",
    "        for cat in outdoorCats:\n",
    "            catId = self.coco.getCatIds(catNms=[cat])[0];\n",
    "            images = self.coco.getImgIds(catIds=catId)\n",
    "            outdoorImageIds.extend(images)\n",
    "        outdoorImageIds = list(set(outdoorImageIds))\n",
    "        print(f'Total outdoor images are {len(outdoorImageIds)}')\n",
    "        return outdoorImageIds\n",
    "    \n",
    "    def getImage(self, imgId):\n",
    "        return self.coco.loadImgs(imgId)[0]"
   ]
  },
  {
   "cell_type": "code",
   "execution_count": 7,
   "metadata": {},
   "outputs": [],
   "source": [
    "def GetOutdoorImages(dataType):\n",
    "    print(f'Generating outdoor image dataset for {dataType}\\n')\n",
    "    print('Initialising COCO object for Instances data')\n",
    "    instanceFile='{}/annotations/instances_{}.json'.format(dataDir, dataType)\n",
    "    instanceDataCoco = getCocoFromAnnotations(instanceFile)\n",
    "    generator = OutdoorDatasetGenerator(instanceDataCoco)\n",
    "    imageIds =  generator.getOutdoorImageIds()\n",
    "    images = [generator.getImage(id) for id in imageIds]\n",
    "    # print(len(images))\n",
    "    return images"
   ]
  },
  {
   "cell_type": "code",
   "execution_count": 30,
   "metadata": {},
   "outputs": [
    {
     "name": "stdout",
     "output_type": "stream",
     "text": [
      "Generating outdoor image dataset for val2017\n",
      "\n",
      "Initialising COCO object for Instances data\n",
      "loading annotations into memory...\n",
      "Done (t=0.46s)\n",
      "creating index...\n",
      "index created!\n",
      "There are 80 coco categories\n",
      "Outdoor Categories are ['bicycle', 'car', 'motorcycle', 'airplane', 'bus', 'train', 'truck', 'boat', 'traffic light', 'fire hydrant', 'stop sign', 'parking meter', 'bench']\n",
      "Total outdoor images are 1424\n",
      "\n",
      " Writing OutdoorImageIds to file val2017_outdoor\n"
     ]
    }
   ],
   "source": [
    "dataType='val2017'\n",
    "outdoorImages = GetOutdoorImages(dataType)\n",
    "writeToFile(outdoorImages, dataType)"
   ]
  },
  {
   "cell_type": "markdown",
   "metadata": {},
   "source": [
    "### Captions Viewer can be used to get the captions given an image"
   ]
  },
  {
   "cell_type": "code",
   "execution_count": 24,
   "metadata": {},
   "outputs": [],
   "source": [
    "class CaptionsViewer:\n",
    "    def __init__(self, coco):\n",
    "        self.coco = coco\n",
    "        \n",
    "    def showCaptions(self, img):\n",
    "        annIds = self.coco.getAnnIds(imgIds=img['id']);\n",
    "        anns = self.coco.loadAnns(annIds)\n",
    "        # self.coco.showAnns(anns)\n",
    "        # showImage(img)\n",
    "        return anns"
   ]
  },
  {
   "cell_type": "code",
   "execution_count": 29,
   "metadata": {},
   "outputs": [
    {
     "name": "stdout",
     "output_type": "stream",
     "text": [
      "Generating outdoor image dataset for val2017\n",
      "\n",
      "Initialising COCO object for Instances data\n",
      "loading annotations into memory...\n",
      "Done (t=0.45s)\n",
      "creating index...\n",
      "index created!\n",
      "There are 80 coco categories\n",
      "Outdoor Categories are ['bicycle', 'car', 'motorcycle', 'airplane', 'bus', 'train', 'truck', 'boat', 'traffic light', 'fire hydrant', 'stop sign', 'parking meter', 'bench']\n",
      "Total outdoor images are 1424\n",
      "\n",
      "Getting random outdoor image\n",
      "loading annotations into memory...\n",
      "Done (t=0.04s)\n",
      "creating index...\n",
      "index created!\n",
      "\n",
      "Captions for Image: {'license': 3, 'file_name': '000000472030.jpg', 'coco_url': 'http://images.cocodataset.org/val2017/000000472030.jpg', 'height': 480, 'width': 640, 'date_captured': '2013-11-16 19:50:55', 'flickr_url': 'http://farm4.staticflickr.com/3340/3570719653_be3552d961_z.jpg', 'id': 472030} are\n",
      "\n",
      "[{'image_id': 472030, 'id': 503953, 'caption': 'A lush green forest filled with lots of trees.'}, {'image_id': 472030, 'id': 507424, 'caption': 'A jacket is draped on a bench in a dense forest.'}, {'image_id': 472030, 'id': 511408, 'caption': 'A park bench with a backpack on it in a forest of trees.'}, {'image_id': 472030, 'id': 548989, 'caption': 'A lot of different size trees in the woods.'}, {'image_id': 472030, 'id': 552865, 'caption': 'A bench in the middle of a lush, green forest.'}]\n"
     ]
    }
   ],
   "source": [
    "# dataType='train2017'\n",
    "dataType='val2017'\n",
    "outdoorImages = GetOutdoorImages(dataType)\n",
    "\n",
    "print('\\nGetting random outdoor image')\n",
    "img = outdoorImages[np.random.randint(0,len(outdoorImages))]\n",
    "\n",
    "captionsFile='{}/annotations/captions_{}.json'.format(dataDir, dataType)\n",
    "captionsDataCoco = getCocoFromAnnotations(captionsFile)\n",
    "print(f'\\nCaptions for Image: {img} are\\n')\n",
    "captionsViewer = CaptionsViewer(captionsDataCoco)\n",
    "print(captionsViewer.showCaptions(img))"
   ]
  },
  {
   "cell_type": "code",
   "execution_count": 25,
   "metadata": {},
   "outputs": [
    {
     "name": "stdout",
     "output_type": "stream",
     "text": [
      "[{'image_id': 238117, 'id': 829360, 'caption': 'A sky blue aircraft is displayed in front of a building, with clouds overhead.'}, {'image_id': 238117, 'id': 829473, 'caption': 'A large blue airplane parked in a stationary position.'}, {'image_id': 238117, 'id': 829657, 'caption': 'A big fighter jet sits on the te'}, {'image_id': 238117, 'id': 829695, 'caption': 'A jet aircraft strangely painted like the sky with clouds on display at an airport'}, {'image_id': 238117, 'id': 829719, 'caption': 'A blue camouflage airplane is on a runway.'}]\n"
     ]
    }
   ],
   "source": [
    "img = outdoorImages[np.random.randint(0,len(outdoorImages))]\n",
    "captionsViewer = CaptionsViewer(captionsDataCoco)\n",
    "anns = captionsViewer.showCaptions(img)\n",
    "print(anns)"
   ]
  },
  {
   "cell_type": "code",
   "execution_count": 32,
   "metadata": {},
   "outputs": [
    {
     "name": "stdout",
     "output_type": "stream",
     "text": [
      "0\n"
     ]
    }
   ],
   "source": [
    "# Calculating if there are any images without any captions\n",
    "nocaps = 0\n",
    "for i in outdoorImages:\n",
    "    anns = captionsViewer.showCaptions(i)\n",
    "    if(len(anns) == 0):\n",
    "        nocaps = nocaps+1\n",
    "\n",
    "print(nocaps)"
   ]
  },
  {
   "cell_type": "code",
   "execution_count": 22,
   "metadata": {},
   "outputs": [
    {
     "data": {
      "text/plain": [
       "33799"
      ]
     },
     "execution_count": 22,
     "metadata": {},
     "output_type": "execute_result"
    }
   ],
   "source": [
    "len(outdoorImages)"
   ]
  },
  {
   "cell_type": "code",
   "execution_count": null,
   "metadata": {},
   "outputs": [],
   "source": []
  }
 ],
 "metadata": {
  "kernelspec": {
   "display_name": "Python 3",
   "language": "python",
   "name": "python3"
  },
  "language_info": {
   "codemirror_mode": {
    "name": "ipython",
    "version": 3
   },
   "file_extension": ".py",
   "mimetype": "text/x-python",
   "name": "python",
   "nbconvert_exporter": "python",
   "pygments_lexer": "ipython3",
   "version": "3.6.10"
  }
 },
 "nbformat": 4,
 "nbformat_minor": 1
}
